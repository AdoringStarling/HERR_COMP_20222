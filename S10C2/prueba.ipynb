{
 "cells": [
  {
   "cell_type": "code",
   "execution_count": 54,
   "metadata": {},
   "outputs": [],
   "source": [
    "#Ejercicio 1 Terminar lo que hizo en clase + dos preguntas adicionales (en mayusculas en el texto)\n",
    "\n",
    "import numpy as np\n",
    "import matplotlib.pylab as plt\n",
    "import pandas as pd"
   ]
  },
  {
   "cell_type": "code",
   "execution_count": 55,
   "metadata": {},
   "outputs": [],
   "source": [
    "# 1) lea los datos de resorte.dat y almacenelos.\n",
    "# \n",
    "d=pd.read_csv('resorte.dat',delim_whitespace=True,header=None)\n",
    "# Los datos corresponden a las posiciones en x de un oscilador (masa resorte) en funcion del tiempo. La ecuacion de movimiento esta dada por\n",
    "d=d.rename(columns={0:'t',1:'x'})\n",
    "# xt=a*np.exp(-gamma*t)*np.cos(omega*t)\n",
    "# Donde a, gamma, y omega son parametros que se busca determinar."
   ]
  },
  {
   "cell_type": "code",
   "execution_count": 112,
   "metadata": {},
   "outputs": [],
   "source": [
    "# 2) Implemente un algoritmo que le permita, por medio de estimacion bayesiana de parametros, encontrar los parametros correspondientes \n",
    "# a los datos d. Para esto debe:\n",
    "\n",
    "# 2a.) definir una funcion que reciba los parametros que se busca estimar y los datos de tiempo y retorne los datos modelados  \n",
    "def mod(t,a, gamma, omega):\n",
    "    return a*np.exp(-gamma*t)*np.cos(omega*t)\n",
    "\n",
    "# 2b.) Definir una funcion que retorne la funcion de verosimilitud\n",
    "def ver(x0,x1):\n",
    "    return np.exp(-((0.5)*sum(((x0-x1)/np.std(x0))**2)))"
   ]
  },
  {
   "cell_type": "code",
   "execution_count": 220,
   "metadata": {},
   "outputs": [],
   "source": [
    "#condiciones iniciales: tomen por ejemplo:\n",
    "aini=7.5\n",
    "gammaini=0.6\n",
    "omegaini=18.2\n",
    "\n",
    "#numero de pasos: empiecen con 10000 y aumenten el número si ven que el algoritmo necesita mas pasos para converger.\n",
    "iteraciones=10000"
   ]
  },
  {
   "cell_type": "code",
   "execution_count": 80,
   "metadata": {},
   "outputs": [],
   "source": [
    "# 2d.) Seleccione los mejores parametros E IMPRIMA UN MENSAJE QUE DIGA: \"LOS MEJORES PARAMETROS SON a=... gamma=... Y omgega=...\"\n",
    "\n",
    "# 2f.) Grafique sus datos originales y su modelo con los mejores parametros. Guarde su grafica sin mostrarla en Resorte.png\n",
    "\n",
    "# 3) SABIENDO QUE omega=np.sqrt(k/m), imprima un mensaje dónde diga si puede o NO determinar k Y m de manera individual usando el método \n",
    "# anterior. Justifique su respuesta (puede hacer pruebas con el código para responder)."
   ]
  },
  {
   "cell_type": "code",
   "execution_count": 226,
   "metadata": {},
   "outputs": [
    {
     "name": "stderr",
     "output_type": "stream",
     "text": [
      "C:\\Users\\jujim\\AppData\\Local\\Temp\\ipykernel_17388\\2812589775.py:21: RuntimeWarning: invalid value encountered in double_scalars\n",
      "  alpha = ln/lo\n",
      "C:\\Users\\jujim\\AppData\\Local\\Temp\\ipykernel_17388\\2812589775.py:21: RuntimeWarning: divide by zero encountered in double_scalars\n",
      "  alpha = ln/lo\n"
     ]
    },
    {
     "name": "stdout",
     "output_type": "stream",
     "text": [
      "LOS MEJORES PARAMETROS SON a=[62.41076232] gamma=[152.31750388] Y omgega=[-59.06335705]\n",
      "Considero que si se puede saber de manera individual cual es k ó m, ya que gracias a que los dos son inputs de la función modelo, solo se cambian estas 2 variables. Eso sí, tardaría mas tiempo y no es del todo seguro que de un valor razonable, ya que se guardan las escalas.\n"
     ]
    }
   ],
   "source": [
    "lw=np.array([])\n",
    "aw=np.array([])\n",
    "aw=np.append(aw, aini)\n",
    "gw=np.array([])\n",
    "gw=np.append(gw,gammaini)\n",
    "ow=np.array([])\n",
    "ow=np.append(ow,omegaini)\n",
    "alw=np.array([0])\n",
    "\n",
    "x=d['x'].values\n",
    "t=d['t'].values\n",
    "\n",
    "for i in range(iteraciones):\n",
    "    a     = np.random.normal(aw[i]) \n",
    "    gamma = np.random.normal(gw[i])\n",
    "    omega = np.random.normal(ow[i])\n",
    "    xo = mod(t, aw[i], gw[i],ow[i])\n",
    "    xn = mod(t, a,gamma,omega)\n",
    "    lo = ver(x, xo)\n",
    "    ln = ver(x, xn)\n",
    "    alpha = ln/lo\n",
    "    # print(alpha)\n",
    "    alw=np.append(alw,alpha)\n",
    "    if alpha<=1.0:\n",
    "        aw=np.append(aw, a)\n",
    "        gw=np.append(gw, gamma)\n",
    "        ow=np.append(ow, omega)\n",
    "        lw=np.append(lw, ln)\n",
    "    else:\n",
    "        b=np.random.uniform(0, 1, 100)[0]\n",
    "        if b<alpha:\n",
    "            aw=np.append(aw, a)\n",
    "            gw=np.append(gw, gamma)\n",
    "            ow=np.append(ow, omega)\n",
    "            lw=np.append(lw, ln)\n",
    "        else:\n",
    "            aw=np.append(aw, aw[i])\n",
    "            gw=np.append(gw, gw[i])\n",
    "            ow=np.append(ow, ow[i])\n",
    "            lw=np.append(lw, lo)\n",
    "arg=np.argmin(np.abs(alw[(alw>0.99)&(alw<1.01)]-np.ones(len(alw[(alw>0.99)&(alw<1.01)]))))\n",
    "print(f\"LOS MEJORES PARAMETROS SON a={aw[alw==alw[(alw>0.99)&(alw<1.01)][arg]]} gamma={gw[alw==alw[(alw>0.99)&(alw<1.01)][arg]]} Y omgega={ow[alw==alw[(alw>0.99)&(alw<1.01)][arg]]}\")\n",
    "plt.plot(t, x ,'b--',label='Original')\n",
    "plt.plot(t, mod(t, aw[alw==alw[(alw>0.99)&(alw<1.01)][arg]], gw[alw==alw[(alw>0.99)&(alw<1.01)][arg]],ow[alw==alw[(alw>0.99)&(alw<1.01)][arg]]), 'r--',label='Modelo')\n",
    "plt.legend()\n",
    "plt.savefig('Resorte.png')\n",
    "plt.close()\n",
    "print('Considero que si se puede saber de manera individual cual es k ó m, ya que gracias a que los dos son inputs de la función modelo, solo se cambian estas 2 variables. Eso sí, tardaría mas tiempo y no es del todo seguro que de un valor razonable, ya que se guardan las escalas.')"
   ]
  }
 ],
 "metadata": {
  "kernelspec": {
   "display_name": "Python 3.9.12 ('base')",
   "language": "python",
   "name": "python3"
  },
  "language_info": {
   "codemirror_mode": {
    "name": "ipython",
    "version": 3
   },
   "file_extension": ".py",
   "mimetype": "text/x-python",
   "name": "python",
   "nbconvert_exporter": "python",
   "pygments_lexer": "ipython3",
   "version": "3.9.12"
  },
  "orig_nbformat": 4,
  "vscode": {
   "interpreter": {
    "hash": "b4cf45c6211498581abd237eeff3fbd35800f83905ea32d42d503e89b4a6c450"
   }
  }
 },
 "nbformat": 4,
 "nbformat_minor": 2
}
