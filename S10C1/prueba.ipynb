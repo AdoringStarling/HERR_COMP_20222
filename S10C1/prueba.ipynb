{
 "cells": [
  {
   "cell_type": "code",
   "execution_count": 1,
   "metadata": {},
   "outputs": [],
   "source": [
    "# Ejercicio 1\n",
    "\n",
    "import numpy as np\n",
    "import matplotlib.pylab as plt"
   ]
  },
  {
   "cell_type": "code",
   "execution_count": 57,
   "metadata": {},
   "outputs": [],
   "source": [
    "# Use esta funcion que recibe un valor x y retorna un valor f(x) donde f es la forma funcional que debe seguir su distribucion. \n",
    "def mifun(x):\n",
    "  x_0 = 3.0\n",
    "  a = 0.01\n",
    "  return np.exp(-(x**2))/((x-x_0)**2 + a**2)\n",
    "\n",
    "sigma=[5,0.2,0.01,0.1,0.1]\n",
    "pasos=[100000,100000,100000,1000,100000]\n",
    "\n",
    "\n",
    "# Al ejecutar el codigo, este debe generar 6 (o 5) graficas .pdf una para cada vez que se llama a la funcion.\n",
    "x=np.linspace(4,-4,100)\n",
    "y=mifun(x)\n",
    "# x_old = np.random.randint(-4, 4, 1)[0]\n",
    "alm=[]\n",
    "alm.append(np.random.randint(-4, 4, 1)[0])\n",
    "for sig,pas in zip(sigma,pasos):\n",
    "  for i in range(pas):\n",
    "    # x_new = np.random.random()*2-sigma\n",
    "    x_new = np.random.normal(0, sig, 1000)\n",
    "    x_new= np.interp(x_new, (x_new.min(), x_new.max()), (-4, 4))[0]\n",
    "    # np.random.normal(x_old,sigma,1)[0]\n",
    "    a=mifun(alm[-1]+x_new)/mifun(alm[-1])\n",
    "\n",
    "    if a>1:\n",
    "      alm.append(x_new+alm[-1])\n",
    "      # x_old=x_new\n",
    "    else:\n",
    "      b=np.random.uniform(0, 1, 100)[0]\n",
    "      if b<=a:\n",
    "        alm.append(x_new+alm[-1])\n",
    "        # x_old=x_new\n",
    "      else:\n",
    "        alm.append(alm[-1])\n",
    "\n",
    "\n",
    "  #plt.hist(np.array(alm))\n",
    "  plt.hist(np.array(alm), bins=40, density=True)\n",
    "  plt.plot(x,y)\n",
    "  plt.title(\"histograma_\"+str(sig)+\"_\"+str(pas))\n",
    "  plt.savefig(\"histograma_\"+str(sig)+\"_\"+str(pas)+\".pdf\")\n",
    "  plt.close()"
   ]
  },
  {
   "cell_type": "code",
   "execution_count": 49,
   "metadata": {},
   "outputs": [],
   "source": [
    "# h1 = plt.hist(np.array(alm), bins=40, density=True)\n",
    "# # f = function(X)\n",
    "# norm = sum(y*(x[1]-x[0]))\n",
    "# plt.plot(x,y/norm, linewidth=1, color='r')"
   ]
  }
 ],
 "metadata": {
  "kernelspec": {
   "display_name": "Python 3.9.12 ('base')",
   "language": "python",
   "name": "python3"
  },
  "language_info": {
   "codemirror_mode": {
    "name": "ipython",
    "version": 3
   },
   "file_extension": ".py",
   "mimetype": "text/x-python",
   "name": "python",
   "nbconvert_exporter": "python",
   "pygments_lexer": "ipython3",
   "version": "3.9.12"
  },
  "orig_nbformat": 4,
  "vscode": {
   "interpreter": {
    "hash": "b4cf45c6211498581abd237eeff3fbd35800f83905ea32d42d503e89b4a6c450"
   }
  }
 },
 "nbformat": 4,
 "nbformat_minor": 2
}
